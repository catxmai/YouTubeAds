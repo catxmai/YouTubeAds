{
 "cells": [
  {
   "cell_type": "code",
   "execution_count": 1,
   "id": "73606a8d",
   "metadata": {},
   "outputs": [],
   "source": [
    "import json \n",
    "import csv\n",
    "import pandas as pd\n",
    "import os\n",
    "\n",
    "# Go up one dir\n",
    "\n",
    "if not os.path.exists(\"ads/\"):\n",
    "    os.chdir(\"..\")"
   ]
  },
  {
   "cell_type": "code",
   "execution_count": 2,
   "id": "e80a655a",
   "metadata": {},
   "outputs": [],
   "source": [
    "id1 = \"0706_0227_happysquare88\"\n",
    "id2 = \"0706_0227_happysquare89\"\n",
    "avail1, avail2, unavail1, unavail2 = [], [], [], []\n",
    "\n",
    "with open(f\"output/output_{id1}.json\", 'r', encoding=\"utf-8\") as f:\n",
    "    for _ in range(4):\n",
    "        next(f)\n",
    "    for line in f:\n",
    "        json_data = json.loads(line)\n",
    "        if 'video_title' in json_data:\n",
    "            avail1.append(json_data[\"video_id\"])\n",
    "        else:\n",
    "            unavail1.append(json_data[\"video_id\"])\n",
    "            \n",
    "with open(f\"output/output_{id2}.json\", 'r', encoding=\"utf-8\") as f:\n",
    "    for _ in range(4):\n",
    "        next(f)\n",
    "    for line in f:\n",
    "        json_data = json.loads(line)\n",
    "        if 'video_title' in json_data:\n",
    "            avail2.append(json_data[\"video_id\"])\n",
    "        else:\n",
    "            unavail2.append(json_data[\"video_id\"])"
   ]
  },
  {
   "cell_type": "code",
   "execution_count": 3,
   "id": "17895d0e",
   "metadata": {},
   "outputs": [
    {
     "name": "stdout",
     "output_type": "stream",
     "text": [
      "2000\n",
      "2000\n",
      "108\n",
      "109\n",
      "False\n"
     ]
    }
   ],
   "source": [
    "print(len(avail1))\n",
    "print(len(avail2))\n",
    "print(len(unavail1))\n",
    "print(len(unavail2))\n",
    "print(len(avail1)+len(unavail1) == len(avail2)+len(unavail2))"
   ]
  },
  {
   "cell_type": "code",
   "execution_count": 9,
   "id": "0c7778fd",
   "metadata": {},
   "outputs": [
    {
     "data": {
      "text/plain": [
       "['5fVkjhmDfRY']"
      ]
     },
     "execution_count": 9,
     "metadata": {},
     "output_type": "execute_result"
    }
   ],
   "source": [
    "miss = [i for i in unavail2 if i not in unavail1]\n",
    "miss"
   ]
  },
  {
   "cell_type": "code",
   "execution_count": 11,
   "id": "8ef63142",
   "metadata": {},
   "outputs": [
    {
     "data": {
      "text/plain": [
       "True"
      ]
     },
     "execution_count": 11,
     "metadata": {},
     "output_type": "execute_result"
    }
   ],
   "source": []
  }
 ],
 "metadata": {
  "kernelspec": {
   "display_name": "Python 3 (ipykernel)",
   "language": "python",
   "name": "python3"
  },
  "language_info": {
   "codemirror_mode": {
    "name": "ipython",
    "version": 3
   },
   "file_extension": ".py",
   "mimetype": "text/x-python",
   "name": "python",
   "nbconvert_exporter": "python",
   "pygments_lexer": "ipython3",
   "version": "3.11.3"
  }
 },
 "nbformat": 4,
 "nbformat_minor": 5
}
